{
 "cells": [
  {
   "cell_type": "markdown",
   "id": "924716e1",
   "metadata": {},
   "source": [
    "    # stack implenetation in python\n",
    "    - list\n",
    "    - collections.deque\n",
    "    - queue.Lifoqueue\n",
    "    "
   ]
  },
  {
   "cell_type": "code",
   "execution_count": 1,
   "id": "58362f8e",
   "metadata": {},
   "outputs": [],
   "source": [
    "# list \n",
    "# in python it's not recommended technique to use lists as a stack\n",
    "\n",
    "s=[]\n",
    "\n",
    "s.append(\"https://edition.cnn.com/\")\n",
    "\n",
    "s.append(\"https://edition.cnn.com/world\")\n",
    "\n",
    "s.append(\"https://edition.cnn.com/india\")\n",
    "\n",
    "s.append(\"https://edition.cnn.com/china\")"
   ]
  },
  {
   "cell_type": "code",
   "execution_count": 2,
   "id": "83ea6a10",
   "metadata": {},
   "outputs": [
    {
     "data": {
      "text/plain": [
       "'https://edition.cnn.com/china'"
      ]
     },
     "execution_count": 2,
     "metadata": {},
     "output_type": "execute_result"
    }
   ],
   "source": [
    "s[-1]"
   ]
  },
  {
   "cell_type": "code",
   "execution_count": 3,
   "id": "0bf558fa",
   "metadata": {},
   "outputs": [
    {
     "data": {
      "text/plain": [
       "'https://edition.cnn.com/china'"
      ]
     },
     "execution_count": 3,
     "metadata": {},
     "output_type": "execute_result"
    }
   ],
   "source": [
    "s.pop()"
   ]
  },
  {
   "cell_type": "code",
   "execution_count": 4,
   "id": "ac236595",
   "metadata": {},
   "outputs": [
    {
     "data": {
      "text/plain": [
       "['https://edition.cnn.com/',\n",
       " 'https://edition.cnn.com/world',\n",
       " 'https://edition.cnn.com/india']"
      ]
     },
     "execution_count": 4,
     "metadata": {},
     "output_type": "execute_result"
    }
   ],
   "source": [
    "s"
   ]
  },
  {
   "cell_type": "markdown",
   "id": "46cb7cc5",
   "metadata": {},
   "source": [
    "# collections.deque \n",
    "- it's the recommended way to use it."
   ]
  },
  {
   "cell_type": "code",
   "execution_count": 5,
   "id": "754c5f77",
   "metadata": {},
   "outputs": [],
   "source": [
    "from collections import deque\n",
    "stack=deque()"
   ]
  },
  {
   "cell_type": "code",
   "execution_count": 6,
   "id": "663657d9",
   "metadata": {},
   "outputs": [
    {
     "data": {
      "text/plain": [
       "['__add__',\n",
       " '__bool__',\n",
       " '__class__',\n",
       " '__class_getitem__',\n",
       " '__contains__',\n",
       " '__copy__',\n",
       " '__delattr__',\n",
       " '__delitem__',\n",
       " '__dir__',\n",
       " '__doc__',\n",
       " '__eq__',\n",
       " '__format__',\n",
       " '__ge__',\n",
       " '__getattribute__',\n",
       " '__getitem__',\n",
       " '__gt__',\n",
       " '__hash__',\n",
       " '__iadd__',\n",
       " '__imul__',\n",
       " '__init__',\n",
       " '__init_subclass__',\n",
       " '__iter__',\n",
       " '__le__',\n",
       " '__len__',\n",
       " '__lt__',\n",
       " '__mul__',\n",
       " '__ne__',\n",
       " '__new__',\n",
       " '__reduce__',\n",
       " '__reduce_ex__',\n",
       " '__repr__',\n",
       " '__reversed__',\n",
       " '__rmul__',\n",
       " '__setattr__',\n",
       " '__setitem__',\n",
       " '__sizeof__',\n",
       " '__str__',\n",
       " '__subclasshook__',\n",
       " 'append',\n",
       " 'appendleft',\n",
       " 'clear',\n",
       " 'copy',\n",
       " 'count',\n",
       " 'extend',\n",
       " 'extendleft',\n",
       " 'index',\n",
       " 'insert',\n",
       " 'maxlen',\n",
       " 'pop',\n",
       " 'popleft',\n",
       " 'remove',\n",
       " 'reverse',\n",
       " 'rotate']"
      ]
     },
     "execution_count": 6,
     "metadata": {},
     "output_type": "execute_result"
    }
   ],
   "source": [
    "dir(stack) # it will return all the methods will the deque supports"
   ]
  },
  {
   "cell_type": "code",
   "execution_count": 7,
   "id": "a1c7fb7c",
   "metadata": {},
   "outputs": [],
   "source": [
    "stack.append(\"https://edition.cnn.com/\")\n",
    "stack.append(\"https://edition.cnn.com/world\")\n",
    "stack.append(\"https://edition.cnn.com/india\")\n",
    "stack.append(\"https://edition.cnn.com/china\")"
   ]
  },
  {
   "cell_type": "code",
   "execution_count": 8,
   "id": "c0369e1b",
   "metadata": {},
   "outputs": [
    {
     "data": {
      "text/plain": [
       "deque(['https://edition.cnn.com/',\n",
       "       'https://edition.cnn.com/world',\n",
       "       'https://edition.cnn.com/india',\n",
       "       'https://edition.cnn.com/china'])"
      ]
     },
     "execution_count": 8,
     "metadata": {},
     "output_type": "execute_result"
    }
   ],
   "source": [
    "stack"
   ]
  },
  {
   "cell_type": "code",
   "execution_count": 9,
   "id": "e0261e4f",
   "metadata": {},
   "outputs": [
    {
     "data": {
      "text/plain": [
       "'https://edition.cnn.com/china'"
      ]
     },
     "execution_count": 9,
     "metadata": {},
     "output_type": "execute_result"
    }
   ],
   "source": [
    "stack.pop()"
   ]
  },
  {
   "cell_type": "code",
   "execution_count": 10,
   "id": "e46962ce",
   "metadata": {},
   "outputs": [
    {
     "data": {
      "text/plain": [
       "deque(['https://edition.cnn.com/',\n",
       "       'https://edition.cnn.com/world',\n",
       "       'https://edition.cnn.com/india'])"
      ]
     },
     "execution_count": 10,
     "metadata": {},
     "output_type": "execute_result"
    }
   ],
   "source": [
    "stack"
   ]
  },
  {
   "cell_type": "code",
   "execution_count": 11,
   "id": "effd0a8b",
   "metadata": {},
   "outputs": [],
   "source": [
    "# implementation of the stack using class"
   ]
  },
  {
   "cell_type": "code",
   "execution_count": 12,
   "id": "886ea4b2",
   "metadata": {},
   "outputs": [],
   "source": [
    "class Stack:\n",
    "    def __init__(self):\n",
    "        self.container=deque()\n",
    "    def push(self,val):\n",
    "        return self.container.append(val)\n",
    "    def pop(self):\n",
    "        return self.container.pop()\n",
    "    def retrieve_stack(self):\n",
    "        return self.container\n",
    "    def peak(self):\n",
    "        if len(self.container)!=0:\n",
    "            self.container[-1]\n",
    "        print(\"stack is empty\")\n",
    "    def is_empty(self):\n",
    "        return len(self.container)==0\n",
    "    def size(self):\n",
    "        return len(self.container)"
   ]
  },
  {
   "cell_type": "code",
   "execution_count": 13,
   "id": "d0d7d59d",
   "metadata": {},
   "outputs": [],
   "source": [
    "st=Stack()\n",
    "st.push(21)\n",
    "st.push(22)\n",
    "st.push(23)\n",
    "st.push(24)\n",
    "st.push(25)"
   ]
  },
  {
   "cell_type": "code",
   "execution_count": 14,
   "id": "a5cd2ab4",
   "metadata": {},
   "outputs": [
    {
     "data": {
      "text/plain": [
       "deque([21, 22, 23, 24, 25])"
      ]
     },
     "execution_count": 14,
     "metadata": {},
     "output_type": "execute_result"
    }
   ],
   "source": [
    "st.retrieve_stack()"
   ]
  },
  {
   "cell_type": "code",
   "execution_count": 15,
   "id": "1a69e693",
   "metadata": {},
   "outputs": [
    {
     "data": {
      "text/plain": [
       "False"
      ]
     },
     "execution_count": 15,
     "metadata": {},
     "output_type": "execute_result"
    }
   ],
   "source": [
    "st.is_empty()"
   ]
  },
  {
   "cell_type": "code",
   "execution_count": 16,
   "id": "bf73aaf1",
   "metadata": {},
   "outputs": [
    {
     "data": {
      "text/plain": [
       "5"
      ]
     },
     "execution_count": 16,
     "metadata": {},
     "output_type": "execute_result"
    }
   ],
   "source": [
    "st.size()"
   ]
  },
  {
   "cell_type": "code",
   "execution_count": 17,
   "id": "55c8cf6b",
   "metadata": {},
   "outputs": [
    {
     "data": {
      "text/plain": [
       "25"
      ]
     },
     "execution_count": 17,
     "metadata": {},
     "output_type": "execute_result"
    }
   ],
   "source": [
    "st.pop()"
   ]
  },
  {
   "cell_type": "code",
   "execution_count": 18,
   "id": "7a853033",
   "metadata": {},
   "outputs": [
    {
     "data": {
      "text/plain": [
       "deque([21, 22, 23, 24])"
      ]
     },
     "execution_count": 18,
     "metadata": {},
     "output_type": "execute_result"
    }
   ],
   "source": [
    "st.retrieve_stack()"
   ]
  },
  {
   "cell_type": "markdown",
   "id": "d1000299",
   "metadata": {},
   "source": [
    "# Assignment from codebase.io"
   ]
  },
  {
   "cell_type": "code",
   "execution_count": 19,
   "id": "d0111765",
   "metadata": {},
   "outputs": [],
   "source": [
    "# reverse string\n",
    "\n",
    "#reverse_string(we will conqure COVID-19) to 91-DIVOC reuqnoc lliw ew"
   ]
  },
  {
   "cell_type": "code",
   "execution_count": 20,
   "id": "4df76f0c",
   "metadata": {},
   "outputs": [],
   "source": [
    "def rev_string(s):\n",
    "    stack=Stack() # call the base stack class\n",
    "    for ch in s:\n",
    "        stack.push(ch)\n",
    "    #return stack.retrieve_stack()\n",
    "    rstr=''\n",
    "    while stack.size()!=0:\n",
    "        rstr+=stack.pop()\n",
    "    return rstr\n",
    "        \n",
    "    \n",
    "    "
   ]
  },
  {
   "cell_type": "code",
   "execution_count": 21,
   "id": "3892de5b",
   "metadata": {},
   "outputs": [
    {
     "name": "stdout",
     "output_type": "stream",
     "text": [
      "91-divoC eruqnoc lliw eW\n"
     ]
    }
   ],
   "source": [
    "print(rev_string(\"We will conqure Covid-19\"))"
   ]
  },
  {
   "cell_type": "markdown",
   "id": "8796783e",
   "metadata": {},
   "source": [
    "## find  balance string "
   ]
  },
  {
   "cell_type": "code",
   "execution_count": 50,
   "id": "c6b6c9a9",
   "metadata": {},
   "outputs": [],
   "source": [
    "# possible paranthesis are (,[,{,\n",
    "\n",
    "def is_match(ch1,ch2):\n",
    "    match_dic={\n",
    "        ')':'(',\n",
    "        '}':'{',\n",
    "        ']':'['\n",
    "    }\n",
    "    \n",
    "    return match_dic[ch1] == ch2\n",
    "\n",
    "def is_balanced(s):\n",
    "    st=Stack()\n",
    "    for ch in s:\n",
    "        if ch =='(' or ch == '[' or ch == '{':\n",
    "            st.push(ch)\n",
    "        if ch ==')' or ch==']' or ch =='}':\n",
    "            if st.size()==0:\n",
    "                return False\n",
    "            if not is_match(ch,st.pop()):\n",
    "                return False\n",
    "    return st.size()==0\n"
   ]
  },
  {
   "cell_type": "code",
   "execution_count": 51,
   "id": "faee058d",
   "metadata": {},
   "outputs": [
    {
     "name": "stdout",
     "output_type": "stream",
     "text": [
      "True\n",
      "False\n",
      "True\n",
      "True\n",
      "False\n",
      "True\n"
     ]
    }
   ],
   "source": [
    "    print(is_balanced(\"({a+b})\"))\n",
    "    print(is_balanced(\"))((a+b}{\"))\n",
    "    print(is_balanced(\"((a+b))\"))\n",
    "    print(is_balanced(\"((a+g))\"))\n",
    "    print(is_balanced(\"))\"))\n",
    "    print(is_balanced(\"[a+b]*(x+2y)*{gg+kk}\"))"
   ]
  },
  {
   "cell_type": "code",
   "execution_count": null,
   "id": "b3fc476d",
   "metadata": {},
   "outputs": [],
   "source": []
  },
  {
   "cell_type": "code",
   "execution_count": null,
   "id": "eea90311",
   "metadata": {},
   "outputs": [],
   "source": []
  },
  {
   "cell_type": "code",
   "execution_count": null,
   "id": "6e33d2f0",
   "metadata": {},
   "outputs": [],
   "source": []
  },
  {
   "cell_type": "code",
   "execution_count": null,
   "id": "10359f3a",
   "metadata": {},
   "outputs": [],
   "source": []
  },
  {
   "cell_type": "code",
   "execution_count": null,
   "id": "08cffb5f",
   "metadata": {},
   "outputs": [],
   "source": []
  }
 ],
 "metadata": {
  "kernelspec": {
   "display_name": "Python 3 (ipykernel)",
   "language": "python",
   "name": "python3"
  },
  "language_info": {
   "codemirror_mode": {
    "name": "ipython",
    "version": 3
   },
   "file_extension": ".py",
   "mimetype": "text/x-python",
   "name": "python",
   "nbconvert_exporter": "python",
   "pygments_lexer": "ipython3",
   "version": "3.9.7"
  }
 },
 "nbformat": 4,
 "nbformat_minor": 5
}
